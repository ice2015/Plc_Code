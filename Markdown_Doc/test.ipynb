{
 "cells": [
  {
   "cell_type": "markdown",
   "id": "53b42ed3",
   "metadata": {},
   "source": [
    "## TEST JUPITER"
   ]
  },
  {
   "cell_type": "code",
   "execution_count": null,
   "id": "04ab102d",
   "metadata": {},
   "outputs": [],
   "source": []
  },
  {
   "cell_type": "code",
   "execution_count": null,
   "id": "edf6be10",
   "metadata": {},
   "outputs": [],
   "source": []
  }
 ],
 "metadata": {
  "kernelspec": {
   "display_name": ".venv",
   "language": "python",
   "name": "python3"
  },
  "language_info": {
   "name": "python",
   "version": "3.12.1"
  }
 },
 "nbformat": 4,
 "nbformat_minor": 5
}
